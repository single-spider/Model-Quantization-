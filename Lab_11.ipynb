{
  "cells": [
    {
      "cell_type": "markdown",
      "metadata": {
        "id": "WUMXmh-EXuY_"
      },
      "source": [
        "# Sentiment Analysis with MLP and Model Optimization Techniques\n",
        "\n",
        "This notebook demonstrates the process of training a Multi-Layer Perceptron (MLP) for sentiment analysis on the SST-2 dataset. It covers:\n",
        "\n",
        "1.  **Data Loading and Preprocessing**: Using Pandas and Scikit-learn's TF-IDF vectorizer.\n",
        "2.  **Model Definition**: Creating an MLP using PyTorch.\n",
        "3.  **Training**: Training the MLP with a validation split.\n",
        "4.  **Evaluation**: Assessing the baseline model performance.\n",
        "5.  **Model Optimization**: Applying Dynamic Quantization and Half-Precision (FP16) techniques.\n",
        "6.  **Comparison**: Comparing the accuracy, model size, and inference speed of the original and optimized models.\n",
        "\n",
        "The goal is to show how model optimization techniques can reduce model size and potentially speed up inference, often with minimal impact on accuracy."
      ],
      "id": "WUMXmh-EXuY_"
    },
    {
      "cell_type": "markdown",
      "metadata": {
        "id": "Rv2LU_5JXuZC"
      },
      "source": [
        "## 1. Setup and Imports\n",
        "\n",
        "First, we install the `prettytable` library for displaying results in a formatted table. Then, we import all necessary libraries: `pandas` for data manipulation, `torch` for building and training the neural network, `sklearn` for TF-IDF vectorization and data splitting, `matplotlib` for plotting, and standard Python libraries like `os` and `time`."
      ],
      "id": "Rv2LU_5JXuZC"
    },
    {
      "cell_type": "code",
      "execution_count": null,
      "metadata": {
        "id": "_hhd6R_PXuZD"
      },
      "outputs": [],
      "source": [
        "!pip install prettytable -q\n",
        "\n",
        "import pandas as pd\n",
        "import torch\n",
        "from torch.utils.data import TensorDataset, DataLoader, SubsetRandomSampler\n",
        "from sklearn.feature_extraction.text import TfidfVectorizer\n",
        "import torch.nn as nn\n",
        "import torch.optim as optim\n",
        "import matplotlib.pyplot as plt\n",
        "import torch.quantization as quant\n",
        "import time\n",
        "import os\n",
        "from sklearn.model_selection import train_test_split\n",
        "from prettytable import PrettyTable"
      ],
      "id": "_hhd6R_PXuZD"
    },
    {
      "cell_type": "markdown",
      "metadata": {
        "id": "2dP_n-SGXuZE"
      },
      "source": [
        "## 2. Data Loading\n",
        "\n",
        "We download the Stanford Sentiment Treebank (SST-2) dataset, which contains movie reviews labeled with sentiment (positive/negative). The dataset is provided as tab-separated value (TSV) files.\n",
        "\n",
        "We load the training and test sets using `pandas`. Since the files don't have a header row, we specify `header=None`. We then assign meaningful column names: 'sentence' for the review text and 'label' for the sentiment (0 for negative, 1 for positive)."
      ],
      "id": "2dP_n-SGXuZE"
    },
    {
      "cell_type": "code",
      "execution_count": null,
      "metadata": {
        "colab": {
          "base_uri": "https://localhost:8080/"
        },
        "id": "Pasv0jwpXuZF",
        "outputId": "864a58bb-5975-4f63-9af6-e356c4a5288a"
      },
      "outputs": [
        {
          "output_type": "stream",
          "name": "stdout",
          "text": [
            "Training Data Head:\n",
            "                                            sentence  label\n",
            "0  a stirring , funny and finally transporting re...      1\n",
            "1  apparently reassembled from the cutting room f...      0\n",
            "2  they presume their audience wo n't sit still f...      0\n",
            "3  this is a visually stunning rumination on love...      1\n",
            "4  jonathan parker 's bartleby should have been t...      1\n",
            "\n",
            "Test Data Head:\n",
            "                                            sentence  label\n",
            "0       no movement , no yuks , not much of anything      0\n",
            "1  a gob of drivel so sickly sweet , even the eag...      0\n",
            "2  gangs of new york is an unapologetic mess , wh...      0\n",
            "3  we never really feel involved with the story ,...      0\n",
            "4              this is one of polanski 's best films      1\n"
          ]
        }
      ],
      "source": [
        "# URLs for the datasets\n",
        "train_url = \"https://raw.githubusercontent.com/clairett/pytorch-sentiment-classification/master/data/SST2/train.tsv\"\n",
        "test_url = \"https://raw.githubusercontent.com/clairett/pytorch-sentiment-classification/master/data/SST2/test.tsv\"\n",
        "\n",
        "# Load DataFrames without header and rename columns\n",
        "train_df = pd.read_csv(train_url, delimiter='\\t', header=None)\n",
        "train_df.columns = ['sentence', 'label']\n",
        "test_df = pd.read_csv(test_url, delimiter='\\t', header=None)\n",
        "test_df.columns = ['sentence', 'label']\n",
        "# Display the first few rows of the training data\n",
        "print(\"Training Data Head:\")\n",
        "print(train_df.head())\n",
        "\n",
        "# Display the first few rows of the test data\n",
        "print(\"\\nTest Data Head:\")\n",
        "print(test_df.head())"
      ],
      "id": "Pasv0jwpXuZF"
    },
    {
      "cell_type": "markdown",
      "metadata": {
        "id": "_E1koJyiXuZF"
      },
      "source": [
        "## 3. Data Preprocessing (TF-IDF Vectorization)\n",
        "\n",
        "Neural networks require numerical input. We convert the raw text sentences into numerical feature vectors using Term Frequency-Inverse Document Frequency (TF-IDF).\n",
        "\n",
        "*   **TF-IDF**: This technique reflects how important a word is to a document in a collection or corpus. It increases proportionally to the number of times a word appears in the document but is offset by the frequency of the word in the corpus.\n",
        "*   **Vectorizer**: We initialize `TfidfVectorizer` from `scikit-learn`. `max_features=10000` limits the vocabulary size to the 10,000 most frequent terms across the training corpus.\n",
        "*   **Fit and Transform**: We `fit` the vectorizer on the *training data* only (`fit_transform`) to learn the vocabulary and IDF weights. Then, we `transform` both the training and test data using the *fitted* vectorizer. This ensures consistency and prevents data leakage from the test set into the vocabulary.\n",
        "*   **Output**: The result is a sparse matrix, which we convert to a dense NumPy array (`.toarray()`) for compatibility with PyTorch tensors.\n",
        "*   **Labels**: We extract the numerical labels (0 or 1) from the dataframes."
      ],
      "id": "_E1koJyiXuZF"
    },
    {
      "cell_type": "code",
      "execution_count": null,
      "metadata": {
        "colab": {
          "base_uri": "https://localhost:8080/"
        },
        "id": "sWKm7nRiXuZG",
        "outputId": "1e4047c8-98c9-4885-8146-62390da1936d"
      },
      "outputs": [
        {
          "output_type": "stream",
          "name": "stdout",
          "text": [
            "Fitting TF-IDF on training data and transforming...\n",
            "Transforming test data...\n",
            "\n",
            "Shape of training features: (6920, 10000)\n",
            "Shape of test features: (1821, 10000)\n",
            "Shape of training labels: (6920,)\n",
            "Shape of test labels: (1821,)\n"
          ]
        }
      ],
      "source": [
        "# Initialize TF-IDF Vectorizer\n",
        "vectorizer = TfidfVectorizer(max_features=10000)  # Limit to 10000 features\n",
        "\n",
        "# Fit the vectorizer on the training data and transform it\n",
        "print(\"Fitting TF-IDF on training data and transforming...\")\n",
        "train_features = vectorizer.fit_transform(train_df['sentence']).toarray()\n",
        "\n",
        "# Transform the test data using the fitted vectorizer\n",
        "print(\"Transforming test data...\")\n",
        "test_features = vectorizer.transform(test_df['sentence']).toarray()\n",
        "\n",
        "# Get labels as NumPy arrays\n",
        "train_labels = train_df['label'].values\n",
        "test_labels = test_df['label'].values\n",
        "\n",
        "print(f\"\\nShape of training features: {train_features.shape}\")\n",
        "print(f\"Shape of test features: {test_features.shape}\")\n",
        "print(f\"Shape of training labels: {train_labels.shape}\")\n",
        "print(f\"Shape of test labels: {test_labels.shape}\")"
      ],
      "id": "sWKm7nRiXuZG"
    },
    {
      "cell_type": "markdown",
      "metadata": {
        "id": "S2QKtzcUXuZG"
      },
      "source": [
        "## 4. PyTorch Data Preparation\n",
        "\n",
        "We convert the NumPy arrays (features and labels) into PyTorch tensors.\n",
        "\n",
        "*   **Tensors**: Features are converted to `torch.float32`, and labels are converted to `torch.long` (required by `CrossEntropyLoss`).\n",
        "*   **TensorDataset**: This PyTorch utility wraps the feature and label tensors together, allowing easy access to corresponding pairs.\n",
        "*   **DataLoader**: This utility provides an iterator for efficiently loading data in batches during training and evaluation. It handles shuffling (`shuffle=True` for training) and batching (`batch_size=32`). We create initial DataLoaders here; the training loader will be modified later for the validation split."
      ],
      "id": "S2QKtzcUXuZG"
    },
    {
      "cell_type": "code",
      "execution_count": null,
      "metadata": {
        "colab": {
          "base_uri": "https://localhost:8080/"
        },
        "id": "Hp1uG0TdXuZG",
        "outputId": "0e1b7e43-d031-4702-b932-9e8afb94f2bb"
      },
      "outputs": [
        {
          "output_type": "stream",
          "name": "stdout",
          "text": [
            "Number of training samples: 6920\n",
            "Number of test samples: 1821\n"
          ]
        }
      ],
      "source": [
        "# Create TensorDatasets\n",
        "train_dataset = TensorDataset(torch.tensor(train_features, dtype=torch.float32),\n",
        "                              torch.tensor(train_labels, dtype=torch.long))\n",
        "test_dataset = TensorDataset(torch.tensor(test_features, dtype=torch.float32),\n",
        "                             torch.tensor(test_labels, dtype=torch.long))\n",
        "\n",
        "# Create initial DataLoaders (train_loader will be redefined after split)\n",
        "train_loader_full = DataLoader(train_dataset, batch_size=32, shuffle=True)\n",
        "test_loader = DataLoader(test_dataset, batch_size=32)\n",
        "\n",
        "print(f\"Number of training samples: {len(train_dataset)}\")\n",
        "print(f\"Number of test samples: {len(test_dataset)}\")"
      ],
      "id": "Hp1uG0TdXuZG"
    },
    {
      "cell_type": "markdown",
      "metadata": {
        "id": "QEZvHILTXuZH"
      },
      "source": [
        "## 5. Model Definition (MLP)\n",
        "\n",
        "We define a Multi-Layer Perceptron (MLP) model using PyTorch's `nn.Module`.\n",
        "\n",
        "*   **Architecture**: The MLP consists of several fully connected (`nn.Linear`) layers with ReLU activation functions (`nn.ReLU`) and Dropout (`nn.Dropout`) for regularization.\n",
        "    *   Input layer: Takes the TF-IDF feature dimension (10000) as input.\n",
        "    *   Hidden layers: Reduce dimensionality progressively (512 -> 256 -> 128 -> 64).\n",
        "    *   Output layer: Produces 2 outputs, corresponding to the scores for the two sentiment classes (negative, positive).\n",
        "*   **Dropout**: Applied after each ReLU activation in the hidden layers to prevent overfitting by randomly setting a fraction (`dropout_prob=0.3`) of neuron activations to zero during training.\n",
        "*   **`__init__`**: Initializes the layers sequence.\n",
        "*   **`forward`**: Defines the forward pass of data through the layers."
      ],
      "id": "QEZvHILTXuZH"
    },
    {
      "cell_type": "code",
      "execution_count": null,
      "metadata": {
        "id": "8uL11IWyXuZH"
      },
      "outputs": [],
      "source": [
        "class MLP(nn.Module):\n",
        "    def __init__(self, input_dim=10000, hidden_sizes=[512, 256, 128, 64], output_dim=2, dropout_prob=0.3):\n",
        "        super(MLP, self).__init__()\n",
        "        # Define the sequence of layers\n",
        "        self.layers = nn.Sequential(\n",
        "            # Layer 1\n",
        "            nn.Linear(input_dim, hidden_sizes[0]),\n",
        "            nn.ReLU(),\n",
        "            nn.Dropout(dropout_prob),\n",
        "\n",
        "            # Layer 2\n",
        "            nn.Linear(hidden_sizes[0], hidden_sizes[1]),\n",
        "            nn.ReLU(),\n",
        "            nn.Dropout(dropout_prob),\n",
        "\n",
        "            # Layer 3\n",
        "            nn.Linear(hidden_sizes[1], hidden_sizes[2]),\n",
        "            nn.ReLU(),\n",
        "            nn.Dropout(dropout_prob),\n",
        "\n",
        "            # Layer 4\n",
        "            nn.Linear(hidden_sizes[2], hidden_sizes[3]),\n",
        "            nn.ReLU(),\n",
        "            nn.Dropout(dropout_prob),\n",
        "\n",
        "            # Output Layer\n",
        "            nn.Linear(hidden_sizes[3], output_dim)\n",
        "        )\n",
        "\n",
        "    def forward(self, x):\n",
        "        # Pass input through the sequential layers\n",
        "        return self.layers(x)"
      ],
      "id": "8uL11IWyXuZH"
    },
    {
      "cell_type": "markdown",
      "metadata": {
        "id": "yUpdsOahXuZH"
      },
      "source": [
        "## 6. Model Instantiation and Setup\n",
        "\n",
        "*   **Instantiation**: We create an instance of our `MLP` model.\n",
        "*   **Parameter Count**: We define a helper function `count_parameters` to calculate and display the total number of trainable parameters in the model.\n",
        "*   **Device**: We check if a CUDA-enabled GPU is available (`torch.cuda.is_available()`). If yes, we set the `device` to 'cuda'; otherwise, we use the 'cpu'. Google Colab often provides free GPU access (check Runtime -> Change runtime type).\n",
        "*   **Move Model**: We move the instantiated model to the selected `device` using `.to(device)`. This ensures computations involving the model's parameters happen on the GPU if available."
      ],
      "id": "yUpdsOahXuZH"
    },
    {
      "cell_type": "code",
      "execution_count": null,
      "metadata": {
        "colab": {
          "base_uri": "https://localhost:8080/"
        },
        "id": "nYgllWWcXuZI",
        "outputId": "ab4f610c-12aa-43e2-e9c6-43c15d44b7f1"
      },
      "outputs": [
        {
          "output_type": "stream",
          "name": "stdout",
          "text": [
            "Total trainable parameters: 5,293,122\n",
            "Using device: cuda\n"
          ]
        }
      ],
      "source": [
        "# Instantiate the model\n",
        "mlp = MLP()\n",
        "\n",
        "# Helper function to count trainable parameters\n",
        "def count_parameters(model):\n",
        "    return sum(p.numel() for p in model.parameters() if p.requires_grad)\n",
        "\n",
        "print(f\"Total trainable parameters: {count_parameters(mlp):,}\")\n",
        "\n",
        "# Define device to use (GPU if available, otherwise CPU)\n",
        "device = torch.device(\"cuda\" if torch.cuda.is_available() else \"cpu\")\n",
        "print(f\"Using device: {device}\")\n",
        "\n",
        "# Move the model to the selected device\n",
        "mlp = mlp.to(device)"
      ],
      "id": "nYgllWWcXuZI"
    },
    {
      "cell_type": "markdown",
      "metadata": {
        "id": "ud-TjJgAXuZI"
      },
      "source": [
        "## 7. Training Setup\n",
        "\n",
        "We set up the components needed for the training loop:\n",
        "\n",
        "*   **Loss Function**: `nn.CrossEntropyLoss` is suitable for classification tasks. It combines `LogSoftmax` and `NLLLoss` in one class and expects raw scores (logits) from the model and class indices as targets.\n",
        "*   **Optimizer**: `optim.Adam` is an adaptive learning rate optimization algorithm that's widely used and generally performs well.\n",
        "*   **Epochs**: `num_epochs = 10` defines how many times we iterate over the entire training dataset.\n",
        "*   **Tracking**: We initialize variables to track the best validation accuracy (`best_val_acc`) for checkpointing and lists to store training loss, validation loss, and validation accuracy for plotting.\n",
        "*   **Train/Validation Split**: We split the original *training dataset* into a new training set (80%) and a validation set (20%) using `train_test_split` on the indices. This validation set is crucial for monitoring model performance on unseen data during training and preventing overfitting.\n",
        "*   **Samplers**: `SubsetRandomSampler` is used to create DataLoaders that only sample from the specified training or validation indices.\n",
        "*   **New DataLoaders**: We create new `train_loader` and `val_loader` using the original `train_dataset` but with the respective samplers to ensure they draw data only from the correct split."
      ],
      "id": "ud-TjJgAXuZI"
    },
    {
      "cell_type": "code",
      "execution_count": null,
      "metadata": {
        "colab": {
          "base_uri": "https://localhost:8080/"
        },
        "id": "9ECrdRn9XuZI",
        "outputId": "601e2bd8-ea5b-416b-d583-b8abf37e2806"
      },
      "outputs": [
        {
          "output_type": "stream",
          "name": "stdout",
          "text": [
            "Size of new training set: 5536\n",
            "Size of validation set: 1384\n"
          ]
        }
      ],
      "source": [
        "# Loss function\n",
        "criterion = nn.CrossEntropyLoss()\n",
        "\n",
        "# Optimizer\n",
        "optimizer = optim.Adam(mlp.parameters(), lr=1e-3)\n",
        "\n",
        "# Number of training epochs\n",
        "num_epochs = 10\n",
        "\n",
        "# Variables for tracking best model and metrics\n",
        "best_val_acc = 0.0\n",
        "train_losses = []\n",
        "val_losses = []\n",
        "val_accuracies = []\n",
        "\n",
        "# Split the training data indices into training and validation sets (80% train, 20% val)\n",
        "train_indices, val_indices = train_test_split(\n",
        "    range(len(train_dataset)), test_size=0.2, random_state=42 # Use a fixed random state for reproducibility\n",
        ")\n",
        "\n",
        "# Create samplers for training and validation sets\n",
        "train_sampler = SubsetRandomSampler(train_indices)\n",
        "val_sampler = SubsetRandomSampler(val_indices)\n",
        "\n",
        "# Create DataLoaders for training and validation using the samplers\n",
        "train_loader = DataLoader(train_dataset, batch_size=32, sampler=train_sampler)\n",
        "val_loader = DataLoader(train_dataset, batch_size=32, sampler=val_sampler)\n",
        "\n",
        "print(f\"Size of new training set: {len(train_indices)}\")\n",
        "print(f\"Size of validation set: {len(val_indices)}\")"
      ],
      "id": "9ECrdRn9XuZI"
    },
    {
      "cell_type": "markdown",
      "metadata": {
        "id": "4qHQdfG-XuZJ"
      },
      "source": [
        "## 8. Training Loop\n",
        "\n",
        "This is the main loop where the model learns from the data.\n",
        "\n",
        "For each epoch:\n",
        "1.  **Set to Training Mode**: `mlp.train()` puts the model in training mode. This enables dropout and batch normalization updates (if used).\n",
        "2.  **Iterate through Training Data**: Loop through batches provided by `train_loader`.\n",
        "3.  **Move Data to Device**: Transfer the input data (`data`) and target labels (`target`) to the selected `device` (GPU/CPU).\n",
        "4.  **Zero Gradients**: `optimizer.zero_grad()` clears gradients from the previous iteration.\n",
        "5.  **Forward Pass**: `outputs = mlp(data)` computes the model's predictions for the batch.\n",
        "6.  **Calculate Loss**: `loss = criterion(outputs, target)` calculates the difference between predictions and actual labels.\n",
        "7.  **Backward Pass**: `loss.backward()` computes gradients of the loss with respect to model parameters.\n",
        "8.  **Optimizer Step**: `optimizer.step()` updates the model parameters based on the computed gradients.\n",
        "9.  **Track Training Loss**: Accumulate the loss for the epoch.\n",
        "\n",
        "After processing all training batches:\n",
        "10. **Set to Evaluation Mode**: `mlp.eval()` puts the model in evaluation mode. This disables dropout and fixes batch normalization statistics.\n",
        "11. **Validation Phase**: Loop through batches from `val_loader`.\n",
        "    *   **Disable Gradient Calculation**: `with torch.no_grad():` significantly speeds up computation and reduces memory usage during evaluation, as gradients are not needed.\n",
        "    *   **Calculate Validation Loss and Accuracy**: Compute loss and accuracy on the validation set.\n",
        "12. **Record Metrics**: Store the average training loss, validation loss, and validation accuracy for the epoch.\n",
        "13. **Print Progress**: Display the metrics for the current epoch.\n",
        "14. **Checkpointing**: If the current validation accuracy (`val_acc`) is better than the `best_val_acc` seen so far, save the model's state dictionary (`mlp.state_dict()`) to a file (`checkpoint.pt`). This saves the best performing model based on validation performance."
      ],
      "id": "4qHQdfG-XuZJ"
    },
    {
      "cell_type": "code",
      "execution_count": null,
      "metadata": {
        "colab": {
          "base_uri": "https://localhost:8080/"
        },
        "id": "LZUQvLvkXuZJ",
        "outputId": "db70ac03-2298-431d-e53f-613f10116916"
      },
      "outputs": [
        {
          "output_type": "stream",
          "name": "stdout",
          "text": [
            "Starting Training...\n",
            "Epoch 1/10 - Train Loss: 0.5889, Val Loss: 0.4488, Val Accuracy: 78.90%\n",
            "Validation accuracy improved (0.00% --> 78.90%). Saving model...\n",
            "Epoch 2/10 - Train Loss: 0.2556, Val Loss: 0.4442, Val Accuracy: 80.92%\n",
            "Validation accuracy improved (78.90% --> 80.92%). Saving model...\n",
            "Epoch 3/10 - Train Loss: 0.0765, Val Loss: 0.6054, Val Accuracy: 80.13%\n",
            "Epoch 4/10 - Train Loss: 0.0268, Val Loss: 0.9850, Val Accuracy: 78.76%\n",
            "Epoch 5/10 - Train Loss: 0.0094, Val Loss: 1.2358, Val Accuracy: 78.90%\n",
            "Epoch 6/10 - Train Loss: 0.0028, Val Loss: 1.5898, Val Accuracy: 79.05%\n",
            "Epoch 7/10 - Train Loss: 0.0013, Val Loss: 1.8945, Val Accuracy: 79.05%\n",
            "Epoch 8/10 - Train Loss: 0.0041, Val Loss: 1.7283, Val Accuracy: 79.55%\n",
            "Epoch 9/10 - Train Loss: 0.0003, Val Loss: 2.1460, Val Accuracy: 79.55%\n",
            "Epoch 10/10 - Train Loss: 0.0021, Val Loss: 1.9785, Val Accuracy: 78.97%\n",
            "\n",
            "Training finished in 11.64 seconds.\n",
            "Best validation accuracy: 80.92%\n"
          ]
        }
      ],
      "source": [
        "print(\"Starting Training...\")\n",
        "start_train_time = time.time()\n",
        "\n",
        "for epoch in range(num_epochs):\n",
        "    # --- Training Phase ---\n",
        "    mlp.train()  # Set model to training mode\n",
        "    running_train_loss = 0.0\n",
        "\n",
        "    for data, target in train_loader:\n",
        "        # Move data and target tensors to the configured device\n",
        "        data, target = data.to(device), target.to(device)\n",
        "\n",
        "        # Zero the parameter gradients\n",
        "        optimizer.zero_grad()\n",
        "\n",
        "        # Forward pass: compute predicted outputs by passing inputs to the model\n",
        "        outputs = mlp(data)\n",
        "\n",
        "        # Calculate the batch loss\n",
        "        loss = criterion(outputs, target)\n",
        "\n",
        "        # Backward pass: compute gradient of the loss with respect to model parameters\n",
        "        loss.backward()\n",
        "\n",
        "        # Perform a single optimization step (parameter update)\n",
        "        optimizer.step()\n",
        "\n",
        "        # Update running training loss\n",
        "        running_train_loss += loss.item() * data.size(0)\n",
        "\n",
        "    # Calculate average training loss for the epoch\n",
        "    epoch_train_loss = running_train_loss / len(train_indices)\n",
        "    train_losses.append(epoch_train_loss)\n",
        "\n",
        "    # --- Validation Phase ---\n",
        "    mlp.eval()  # Set model to evaluation mode\n",
        "    running_val_loss = 0.0\n",
        "    correct_val = 0\n",
        "    total_val = 0\n",
        "\n",
        "    with torch.no_grad():  # Disable gradient calculations\n",
        "        for data, target in val_loader:\n",
        "            data, target = data.to(device), target.to(device)\n",
        "            outputs = mlp(data)\n",
        "            loss = criterion(outputs, target)\n",
        "            running_val_loss += loss.item() * data.size(0)\n",
        "            _, predicted = torch.max(outputs, 1)\n",
        "            total_val += target.size(0)\n",
        "            correct_val += (predicted == target).sum().item()\n",
        "\n",
        "    # Calculate average validation loss and accuracy for the epoch\n",
        "    epoch_val_loss = running_val_loss / len(val_indices)\n",
        "    epoch_val_acc = 100.0 * correct_val / total_val\n",
        "    val_losses.append(epoch_val_loss)\n",
        "    val_accuracies.append(epoch_val_acc)\n",
        "\n",
        "    print(f\"Epoch {epoch+1}/{num_epochs} - \"\n",
        "          f\"Train Loss: {epoch_train_loss:.4f}, \"\n",
        "          f\"Val Loss: {epoch_val_loss:.4f}, \"\n",
        "          f\"Val Accuracy: {epoch_val_acc:.2f}%\" ) # Removed incorrect variable reference\n",
        "\n",
        "    # Save checkpoint if validation accuracy improves\n",
        "    if epoch_val_acc > best_val_acc:\n",
        "        print(f\"Validation accuracy improved ({best_val_acc:.2f}% --> {epoch_val_acc:.2f}%). Saving model...\")\n",
        "        best_val_acc = epoch_val_acc\n",
        "        torch.save(mlp.state_dict(), \"checkpoint.pt\")\n",
        "\n",
        "end_train_time = time.time()\n",
        "print(f\"\\nTraining finished in {end_train_time - start_train_time:.2f} seconds.\")\n",
        "print(f\"Best validation accuracy: {best_val_acc:.2f}%\" )"
      ],
      "id": "LZUQvLvkXuZJ"
    },
    {
      "cell_type": "markdown",
      "metadata": {
        "id": "YHD0CuM9XuZJ"
      },
      "source": [
        "## 9. Plotting Training Results\n",
        "\n",
        "We visualize the validation loss and validation accuracy over the training epochs. This helps understand the model's learning progress and identify potential issues like overfitting (where validation loss starts increasing while training loss continues decreasing).\n",
        "\n",
        "*   We use `matplotlib` to create two subplots:\n",
        "    *   Epoch vs. Validation Loss\n",
        "    *   Epoch vs. Validation Accuracy\n",
        "*   Clear labels and titles make the plots easy to interpret."
      ],
      "id": "YHD0CuM9XuZJ"
    },
    {
      "cell_type": "code",
      "execution_count": null,
      "metadata": {
        "colab": {
          "base_uri": "https://localhost:8080/",
          "height": 598
        },
        "id": "r5KDv98YXuZK",
        "outputId": "6926c776-5192-4d6c-d76f-2b43c6bc8ce5"
      },
      "outputs": [
        {
          "output_type": "display_data",
          "data": {
            "text/plain": [
              "<Figure size 1400x600 with 2 Axes>"
            ],
            "image/png": "[encoded data removed]"
          },
          "metadata": {}
        }
      ],
      "source": [
        "# Plot the validation loss and accuracy curves\n",
        "plt.figure(figsize=(14, 6))\n",
        "\n",
        "# Plot Validation Loss\n",
        "plt.subplot(1, 2, 1)\n",
        "plt.plot(range(1, num_epochs + 1), val_losses, marker='o', linestyle='-')\n",
        "plt.xlabel(\"Epoch\")\n",
        "plt.ylabel(\"Validation Loss\")\n",
        "plt.title(\"Epoch vs. Validation Loss\")\n",
        "plt.grid(True)\n",
        "\n",
        "# Plot Validation Accuracy\n",
        "plt.subplot(1, 2, 2)\n",
        "plt.plot(range(1, num_epochs + 1), val_accuracies, marker='o', linestyle='-', color='orange')\n",
        "plt.xlabel(\"Epoch\")\n",
        "plt.ylabel(\"Validation Accuracy (%)\")\n",
        "plt.title(\"Epoch vs. Validation Accuracy\")\n",
        "plt.grid(True)\n",
        "\n",
        "plt.tight_layout()\n",
        "plt.show()"
      ],
      "id": "r5KDv98YXuZK"
    },
    {
      "cell_type": "markdown",
      "metadata": {
        "id": "YpyGbVv0XuZK"
      },
      "source": [
        "## 10. Helper Functions for Evaluation\n",
        "\n",
        "We define two helper functions to streamline the evaluation process for different model versions (original, quantized, etc.).\n",
        "\n",
        "1.  **`evaluate_model(model, loader, device, use_half=False)`**:\n",
        "    *   Takes a model, data loader, device, and a flag `use_half` as input.\n",
        "    *   Sets the model to evaluation mode (`model.eval()`).\n",
        "    *   Iterates through the data loader *without* calculating gradients (`torch.no_grad()`).\n",
        "    *   Measures the time taken for inference across the entire dataset.\n",
        "    *   Calculates the overall accuracy.\n",
        "    *   If `use_half` is True, it converts input data to `half()` precision before feeding it to the model (required for FP16 evaluation).\n",
        "    *   Returns the accuracy (in %) and total inference time (in milliseconds).\n",
        "\n",
        "2.  **`get_model_file_size(model, filename=\"temp_model.pt\")`**:\n",
        "    *   Takes a model and a temporary filename as input.\n",
        "    *   Saves the model's state dictionary to the specified file.\n",
        "    *   Gets the size of the saved file using `os.path.getsize()`.\n",
        "    *   Removes the temporary file.\n",
        "    *   Returns the file size in Megabytes (MB)."
      ],
      "id": "YpyGbVv0XuZK"
    },
    {
      "cell_type": "code",
      "execution_count": null,
      "metadata": {
        "id": "KHTiJ_ITXuZK"
      },
      "outputs": [],
      "source": [
        "def evaluate_model(model, loader, device, use_half=False):\n",
        "    \"\"\"Evaluates accuracy over the dataset and measures inference time.\"\"\"\n",
        "    model.eval()  # Set model to evaluation mode\n",
        "    correct = 0\n",
        "    total = 0\n",
        "    start_time = time.time()\n",
        "\n",
        "    with torch.no_grad(): # Disable gradient calculation for evaluation\n",
        "        for data, target in loader:\n",
        "            data, target = data.to(device), target.to(device)\n",
        "            # Convert input data to half precision if required\n",
        "            if use_half:\n",
        "                data = data.half()\n",
        "            # Get model predictions\n",
        "            outputs = model(data)\n",
        "            # Get the index of the max log-probability (predicted class)\n",
        "            _, predicted = torch.max(outputs.data, 1)\n",
        "            total += target.size(0)\n",
        "            correct += (predicted == target).sum().item()\n",
        "\n",
        "    end_time = time.time()\n",
        "    inference_time = (end_time - start_time) * 1000  # Convert to milliseconds\n",
        "    accuracy = 100.0 * correct / total\n",
        "    print(f\"Evaluation completed in {inference_time:.2f} ms. Accuracy: {accuracy:.2f}%\")\n",
        "    return accuracy, inference_time\n",
        "\n",
        "def get_model_file_size(model, filename=\"temp_model.pt\"):\n",
        "    \"\"\"Saves the model state temporarily and returns file size in MB.\"\"\"\n",
        "    # Ensure model is on CPU before saving for consistent size measurement if needed,\n",
        "    # but state_dict size is generally independent of device it was trained on.\n",
        "    torch.save(model.state_dict(), filename)\n",
        "    # Get file size in bytes and convert to Megabytes\n",
        "    size_bytes = os.path.getsize(filename)\n",
        "    size_mb = size_bytes / (1024 * 1024)\n",
        "    # Remove the temporary file\n",
        "    os.remove(filename)\n",
        "    print(f\"Calculated model size: {size_mb:.2f} MB\")\n",
        "    return size_mb"
      ],
      "id": "KHTiJ_ITXuZK"
    },
    {
      "cell_type": "markdown",
      "metadata": {
        "id": "D1tPxZbeXuZK"
      },
      "source": [
        "## 11. Evaluate Original Model (FP32)\n",
        "\n",
        "Now, we evaluate the performance of the original, trained model (using 32-bit floating-point precision, FP32) on the **test set**.\n",
        "\n",
        "1.  **Load Best Checkpoint**: We load the weights from the `checkpoint.pt` file saved during training (which corresponds to the epoch with the highest validation accuracy) into our `mlp` model instance.\n",
        "2.  **Ensure Model on Device**: We make sure the model is on the correct `device` (especially important if the runtime was restarted).\n",
        "3.  **Evaluate**: We call `evaluate_model` using the test loader (`test_loader`).\n",
        "4.  **Get Size**: We call `get_model_file_size` to measure the storage footprint.\n",
        "5.  **Store Results**: We store the accuracy, inference time, and size for later comparison."
      ],
      "id": "D1tPxZbeXuZK"
    },
    {
      "cell_type": "code",
      "execution_count": null,
      "metadata": {
        "colab": {
          "base_uri": "https://localhost:8080/"
        },
        "id": "TdQ1WCzwXuZL",
        "outputId": "1f997062-4c10-45a7-974b-2e8ba72b9072"
      },
      "outputs": [
        {
          "output_type": "stream",
          "name": "stdout",
          "text": [
            "Loading best model checkpoint...\n",
            "\n",
            "Evaluating Original FP32 Model on Test Set:\n",
            "Evaluation completed in 104.26 ms. Accuracy: 81.11%\n",
            "Calculated model size: 20.20 MB\n",
            "--- Original Model Summary ---\n",
            "Accuracy: 81.11% | Inference Time: 104.26 ms | Storage: 20.20 MB\n"
          ]
        }
      ],
      "source": [
        "# Load the best performing checkpoint\n",
        "print(\"Loading best model checkpoint...\")\n",
        "mlp.load_state_dict(torch.load(\"checkpoint.pt\", map_location=device))\n",
        "mlp.to(device) # Ensure model is on the correct device\n",
        "\n",
        "# Evaluate the original model\n",
        "print(\"\\nEvaluating Original FP32 Model on Test Set:\")\n",
        "orig_acc, orig_infer_time = evaluate_model(mlp, test_loader, device)\n",
        "orig_size = get_model_file_size(mlp, \"orig_model.pt\")\n",
        "\n",
        "print(\"--- Original Model Summary ---\")\n",
        "print(f\"Accuracy: {orig_acc:.2f}% | Inference Time: {orig_infer_time:.2f} ms | Storage: {orig_size:.2f} MB\")"
      ],
      "id": "TdQ1WCzwXuZL"
    },
    {
      "cell_type": "markdown",
      "metadata": {
        "id": "KdDsxpGcXuZL"
      },
      "source": [
        "## 12. Apply and Evaluate Dynamic Quantization (INT8)\n",
        "\n",
        "**Dynamic Quantization**: This technique converts model weights to a lower precision format (like 8-bit integer, INT8) ahead of time, but determines the scaling factors for activations *dynamically* during inference. It's relatively easy to apply (post-training) and primarily benefits CPU inference speed and model size, especially for linear layers and LSTMs.\n",
        "\n",
        "1.  **Apply Quantization**: We use `torch.quantization.quantize_dynamic`.\n",
        "    *   The first argument is the trained model (`mlp`).\n",
        "    *   The second argument (`{nn.Linear}`) specifies the types of layers to quantize. Here, we target only the `Linear` layers.\n",
        "    *   `dtype=torch.qint8` specifies the target data type (8-bit signed integer).\n",
        "2.  **Move to Device**: The quantized model is moved to the target device. Note: Dynamic quantization is often most effective on CPU.\n",
        "3.  **Evaluate**: We evaluate the `dynamic_model` using the `evaluate_model` function.\n",
        "4.  **Get Size**: We measure the size of the quantized model.\n",
        "5.  **Store Results**: We store the metrics for comparison."
      ],
      "id": "KdDsxpGcXuZL"
    },
    {
      "cell_type": "code",
      "execution_count": null,
      "metadata": {
        "colab": {
          "base_uri": "https://localhost:8080/"
        },
        "id": "ebSqXCO_XuZL",
        "outputId": "6bf45836-9dbf-40f5-e9a7-957921f003df"
      },
      "outputs": [
        {
          "output_type": "stream",
          "name": "stdout",
          "text": [
            "\n",
            "Applying Dynamic Quantization...\n",
            "Quantized model placed on: cpu\n",
            "\n",
            "Evaluating Dynamic Quantization (INT8) Model on Test Set:\n",
            "Evaluation completed in 321.27 ms. Accuracy: 80.89%\n",
            "Calculated model size: 5.06 MB\n",
            "--- Dynamic Quantization Model Summary ---\n",
            "Accuracy: 80.89% | Inference Time: 321.27 ms | Storage: 5.06 MB\n"
          ]
        }
      ],
      "source": [
        "# Apply Dynamic Quantization\n",
        "print(\"\\nApplying Dynamic Quantization...\")\n",
        "# Ensure the original model (best checkpoint) is loaded and on the CPU for quantization\n",
        "# Note: Dynamic Quantization typically targets CPU execution\n",
        "mlp_cpu = MLP()\n",
        "mlp_cpu.load_state_dict(torch.load(\"checkpoint.pt\", map_location=\"cpu\"))\n",
        "mlp_cpu.eval() # Set to evaluation mode before quantization\n",
        "\n",
        "dynamic_model = quant.quantize_dynamic(\n",
        "    mlp_cpu, {nn.Linear}, dtype=torch.qint8\n",
        ")\n",
        "\n",
        "# Dynamic quantization primarily benefits CPU, so evaluate on CPU\n",
        "quant_device = torch.device(\"cpu\")\n",
        "dynamic_model.to(quant_device)\n",
        "print(f\"Quantized model placed on: {quant_device}\")\n",
        "\n",
        "# Evaluate the dynamic quantized model\n",
        "print(\"\\nEvaluating Dynamic Quantization (INT8) Model on Test Set:\")\n",
        "dyn_acc, dyn_infer_time = evaluate_model(dynamic_model, test_loader, quant_device)\n",
        "dyn_size = get_model_file_size(dynamic_model, \"dynamic_model.pt\")\n",
        "\n",
        "print(\"--- Dynamic Quantization Model Summary ---\")\n",
        "print(f\"Accuracy: {dyn_acc:.2f}% | Inference Time: {dyn_infer_time:.2f} ms | Storage: {dyn_size:.2f} MB\")"
      ],
      "id": "ebSqXCO_XuZL"
    },
    {
      "cell_type": "markdown",
      "metadata": {
        "id": "4w-1L_HDXuZL"
      },
      "source": [
        "## 13. Apply and Evaluate Half Precision (FP16)\n",
        "\n",
        "**Half Precision (FP16)**: This involves using 16-bit floating-point numbers instead of the standard 32-bit (FP32). It can significantly reduce model size (by roughly half) and speed up computation, especially on GPUs with specialized Tensor Cores (like V100, T4, A100 available in Colab Pro).\n",
        "\n",
        "1.  **Reload Best Model**: We reload the best FP32 checkpoint into the original `mlp` model structure to ensure we start from the trained weights.\n",
        "2.  **Convert to Half**: We convert the model's parameters and buffers to FP16 using `.half()`.\n",
        "3.  **Move to Device**: The FP16 model is moved to the target `device`. For FP16, this should ideally be a CUDA GPU for performance benefits.\n",
        "4.  **Evaluate**: We evaluate the `half_model` using `evaluate_model`, crucially passing `use_half=True`. This tells the evaluation function to also convert the *input data* to `.half()` before feeding it to the model, as FP16 models expect FP16 inputs.\n",
        "5.  **Get Size**: We measure the size of the half-precision model.\n",
        "6.  **Store Results**: We store the metrics for comparison."
      ],
      "id": "4w-1L_HDXuZL"
    },
    {
      "cell_type": "code",
      "execution_count": null,
      "metadata": {
        "colab": {
          "base_uri": "https://localhost:8080/"
        },
        "id": "j3LmX3leXuZL",
        "outputId": "9062f788-9a64-45ae-ab15-f67bd899defc"
      },
      "outputs": [
        {
          "output_type": "stream",
          "name": "stdout",
          "text": [
            "\n",
            "Reloading best model checkpoint for FP16 conversion...\n",
            "Converting model to Half Precision (FP16)...\n",
            "Half precision model placed on: cuda\n",
            "\n",
            "Evaluating Half Precision (FP16) Model on Test Set:\n",
            "Evaluation completed in 239.80 ms. Accuracy: 81.11%\n",
            "Calculated model size: 10.10 MB\n",
            "--- Half Precision Model Summary ---\n",
            "Accuracy: 81.11% | Inference Time: 239.80 ms | Storage: 10.10 MB\n"
          ]
        }
      ],
      "source": [
        "# Reload the original model weights before converting to half precision\n",
        "print(\"\\nReloading best model checkpoint for FP16 conversion...\")\n",
        "mlp.load_state_dict(torch.load(\"checkpoint.pt\", map_location=device))\n",
        "mlp.to(device) # Ensure model is on the correct device\n",
        "mlp.eval() # Set to eval mode\n",
        "\n",
        "# Convert model to half precision\n",
        "print(\"Converting model to Half Precision (FP16)...\")\n",
        "half_model = mlp.half()\n",
        "# Ensure the half model is on the GPU if available, as FP16 benefits are mainly on GPU\n",
        "half_model.to(device)\n",
        "print(f\"Half precision model placed on: {device}\")\n",
        "\n",
        "# Evaluate the half precision model\n",
        "# Note: Requires input data to be converted to half() as well.\n",
        "print(\"\\nEvaluating Half Precision (FP16) Model on Test Set:\")\n",
        "half_acc, half_infer_time = evaluate_model(half_model, test_loader, device, use_half=True)\n",
        "half_size = get_model_file_size(half_model, \"half_model.pt\")\n",
        "\n",
        "print(\"--- Half Precision Model Summary ---\")\n",
        "print(f\"Accuracy: {half_acc:.2f}% | Inference Time: {half_infer_time:.2f} ms | Storage: {half_size:.2f} MB\")"
      ],
      "id": "j3LmX3leXuZL"
    },
    {
      "cell_type": "markdown",
      "metadata": {
        "id": "kPQOgpG2XuZM"
      },
      "source": [
        "## 14. Comparison Summary\n",
        "\n",
        "Finally, we compile the results (accuracy, storage size, inference time) for the original FP32 model, the dynamically quantized INT8 model, and the half-precision FP16 model into a summary table using `PrettyTable`. This provides a clear comparison of the trade-offs involved with each optimization technique.\n",
        "\n",
        "**Expected Observations (Typical):**\n",
        "*   **Size**: Dynamic Quantization and Half Precision should significantly reduce model size compared to the original FP32 model.\n",
        "*   **Inference Time**:\n",
        "    *   Dynamic Quantization often speeds up inference, especially on CPU.\n",
        "    *   Half Precision can speed up inference significantly, especially on compatible GPUs.\n",
        "*   **Accuracy**: Both techniques might cause a small drop in accuracy, but often the difference is minimal and acceptable given the benefits in size and speed."
      ],
      "id": "kPQOgpG2XuZM"
    },
    {
      "cell_type": "code",
      "execution_count": null,
      "metadata": {
        "colab": {
          "base_uri": "https://localhost:8080/"
        },
        "id": "LASOjgCuXuZM",
        "outputId": "0203c87b-3b1d-4164-b9ee-bb8f370993e9"
      },
      "outputs": [
        {
          "output_type": "stream",
          "name": "stdout",
          "text": [
            "\n",
            "===== Model Optimization Techniques Comparison =====\n",
            "+-------+--------------------------+--------------+--------------+---------------------+\n",
            "| S.No. | Model Type               | Accuracy (%) | Storage (MB) | Inference Time (ms) |\n",
            "+-------+--------------------------+--------------+--------------+---------------------+\n",
            "| 1     | Original (FP32)          |        81.11 |        20.20 |              104.26 |\n",
            "| 2     | Dynamic Quantized (INT8) |        80.89 |         5.06 |              321.27 |\n",
            "| 3     | Half Precision (FP16)    |        81.11 |        10.10 |              239.80 |\n",
            "+-------+--------------------------+--------------+--------------+---------------------+\n"
          ]
        }
      ],
      "source": [
        "# Create a PrettyTable instance\n",
        "table = PrettyTable()\n",
        "table.field_names = [\"S.No.\", \"Model Type\", \"Accuracy (%)\", \"Storage (MB)\", \"Inference Time (ms)\"]\n",
        "table.align = \"l\"\n",
        "table.align[\"Accuracy (%)\"] = \"r\"\n",
        "table.align[\"Storage (MB)\"] = \"r\"\n",
        "table.align[\"Inference Time (ms)\"] = \"r\"\n",
        "\n",
        "# Add rows for each model\n",
        "table.add_row([1, \"Original (FP32)\", f\"{orig_acc:.2f}\", f\"{orig_size:.2f}\", f\"{orig_infer_time:.2f}\"])\n",
        "table.add_row([2, \"Dynamic Quantized (INT8)\", f\"{dyn_acc:.2f}\", f\"{dyn_size:.2f}\", f\"{dyn_infer_time:.2f}\"])\n",
        "table.add_row([3, \"Half Precision (FP16)\", f\"{half_acc:.2f}\", f\"{half_size:.2f}\", f\"{half_infer_time:.2f}\"])\n",
        "\n",
        "# Print the comparison table\n",
        "print(\"\\n===== Model Optimization Techniques Comparison =====\")\n",
        "print(table)"
      ],
      "id": "LASOjgCuXuZM"
    }
  ],
  "metadata": {
    "kernelspec": {
      "display_name": "Python 3",
      "name": "python3"
    },
    "language_info": {
      "codemirror_mode": {
        "name": "ipython",
        "version": 3
      },
      "file_extension": ".py",
      "mimetype": "text/x-python",
      "name": "python",
      "nbconvert_exporter": "python",
      "pygments_lexer": "ipython3",
      "version": "3.12.6"
    },
    "colab": {
      "provenance": [],
      "gpuType": "T4"
    },
    "accelerator": "GPU"
  },
  "nbformat": 4,
  "nbformat_minor": 5
}